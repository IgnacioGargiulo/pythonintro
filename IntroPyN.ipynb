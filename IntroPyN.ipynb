{
 "cells": [
  {
   "cell_type": "markdown",
   "metadata": {},
   "source": [
    "# Formación y Evolución de Galaxias"
   ]
  },
  {
   "cell_type": "markdown",
   "metadata": {},
   "source": [
    "## Introducción a Python, jupyter notebook y librerías científicas "
   ]
  },
  {
   "cell_type": "markdown",
   "metadata": {},
   "source": [
    "## Objetivos\n",
    "\n",
    "- Aprender a utilizar la aplicación jupyter notebook   \n",
    "- Introducir el lenguaje de programación Python. \n",
    "- Introducir la librería científica numpy. \n",
    "\n",
    "## Resumen\n",
    "\n",
    "En Este notebook se presentan comandos básicos del jupyter notebook, introducimos operaciones básicas de python para acostumbrarnos a la sintaxis y detalles que lo caracterizan y luego realizamos ejemplos con una de las liberías científicas más utilizadas, numpy (por numerical python).    \n",
    "\n",
    "\n",
    "\n",
    "\n"
   ]
  },
  {
   "cell_type": "markdown",
   "metadata": {},
   "source": [
    "-------------------------------------------------------------------------"
   ]
  },
  {
   "cell_type": "markdown",
   "metadata": {},
   "source": [
    "-------------------------------------------------"
   ]
  },
  {
   "cell_type": "markdown",
   "metadata": {},
   "source": [
    "## Introducción a Jupyter notebook"
   ]
  },
  {
   "attachments": {
    "Jupyter_logo.png": {
     "image/png": "[encoded data removed]"
    }
   },
   "cell_type": "markdown",
   "metadata": {},
   "source": [
    "![Jupyter_logo.png](attachment:Jupyter_logo.png)"
   ]
  },
  {
   "cell_type": "markdown",
   "metadata": {},
   "source": [
    "\n",
    "${\\bf Jupyter}$ (acronismo de Julia, Pyhton y R) es una aplicación que se corre en un navegador web, que permite programar, escribir textos, fórmulas y visualizar imágenes y gráficos.  \n",
    "\n",
    "Contiene un \"kernel\", que es el que nos permite programar en un dado lenguaje. En nuestro caso, el kernel es de python3, la distribución mas usada actualmente del lenguaje python.\n",
    "\n",
    "Antes de seguir, tomen el tour por la interfaz que ofrece jupyter, en el menú \"Help\" de la barra de menú. "
   ]
  },
  {
   "cell_type": "markdown",
   "metadata": {},
   "source": [
    "# Jupyter notebook - conceptos y comandos básicos - lenguaje Markdown\n",
    "\n",
    "Esto es una celda de jupyter. Puede ser de tres tipos: 'code', 'Markdown' y 'RawNBconvert'. Cuando agregamos una nueva celda, por default va a estar en modo \"code\".  Para ejecutar una celda hay que presionar el botón Run del menú de herramientas. \n",
    "\n",
    "Ir al menú \"Cell\" de la barra de menúes y explorar los tres modos. Luego de seleccionar un modo, para que tome efecto, ejecutar la celda. Finalmente, dejar la celda establecida en el modo \"Markdown\", que es la que edita la celda en modo texto. El \"Markdown\" es un lenguaje de texto que tiene sus propias reglas. Acá vamos a explorar solo algunas. Pueden hacer listas numeradas o con bullets:\n",
    "\n",
    "Lista:\n",
    "\n",
    "1. item 1\n",
    "2. item 2\n",
    "    - subitem 2.1\n",
    "    - subitem 2.2\n",
    "\n",
    "Se puede escribir en *cursiva* o en **negrita** utilizando *'s .  \n",
    "  \n",
    "Agregar una celda debajo de esta, a partir del menú \"Insert\". Convertirla a modo \"Markdown\", escribir el nombre y apellido de ustedes y ejecutarla. \n",
    "\n",
    "-Los símbolos #, con un espacio al comienzo de una frase o palabra convierten el texto en títulos de distinto grado. Hay 6 niveles de titulación diferentes. Agreguen 5 celdas por debajo de la celda con su nombre y apellido, y en cada uno titulen su apellido con distinto grado utilizando distinto número de #, de 1 a 6, para ver la diferencia. \n",
    "\n",
    "En https://markdown.es/sintaxis-markdown/ pueden profundizar en este tipo de lenguaje.       \n"
   ]
  },
  {
   "cell_type": "markdown",
   "metadata": {},
   "source": [
    "## Shortcuts o atajos de teclas\n",
    "\n",
    "En el notebook se puede trabajar en dos modos: \"command mode\" y \"editor mode\".  Para acceder al \"command mode\" se debe presionar la tecla \"Esc\". Para acceder al \"editor mode\" hay que presionar la tecla enter.  En el command mode se puede agregar celdas, moverlas, dividirlas, etc.  En el modo editor se escribe dentro de las celdas. \n",
    "\n",
    "-Explorar los atajos de teclas en la sección \"Keyword shortcuts\" del menú de ayuda \"Help\". Por ejemplo, para agregar celdas, alcanza con pasarse al modo \"command\" , tocando la tecla Esc, y luego presionando la tecla \"b\" o \"a\", para agregar una celda por debajo o por arriba de la celda donde estamos parados, respectivamente. Con la tecla \"x\", eliminamos una celda. \n",
    "\n",
    "-Poner el modo comando y usar el atajo para agregar una celda por debajo de esta y otra por encima de esta. Escribir cualquier texto en la celda que creamos por debajo, convertirla a modo \"Markdown\" y ejecutarla , todo utilizando el atajo de teclas correspondiente,y no el menú de botones.  Luego, eliminenla.\n",
    "\n"
   ]
  },
  {
   "cell_type": "markdown",
   "metadata": {},
   "source": [
    "### Latex en Jupyter\n",
    "\n",
    "Los Jupyter notebooks entienden el modo ${\\rm math}$ de ${\\bf {\\it latex}}$, lo que nos permite escribir fórmulas en nuestras descripciones de código.  Por ejemplo:\n",
    "\n",
    "La siguiente función calcula la media de una propiedad de una galaxia, a partir de un vector de valores de dicha propiedad : $\\frac{1}{n} \\sum_{i=1}^{n} m_i$"
   ]
  },
  {
   "cell_type": "code",
   "execution_count": null,
   "metadata": {},
   "outputs": [],
   "source": [
    "import numpy as np\n",
    "\n",
    "def mean(property_vec):\n",
    "    \n",
    "    meanprop = np.sum(property_vec) / len(property_vec) \n",
    "    \n",
    "    return meanprop"
   ]
  },
  {
   "cell_type": "code",
   "execution_count": null,
   "metadata": {},
   "outputs": [],
   "source": []
  },
  {
   "cell_type": "code",
   "execution_count": null,
   "metadata": {},
   "outputs": [],
   "source": []
  },
  {
   "cell_type": "markdown",
   "metadata": {},
   "source": [
    "## ¡ Mayor peligro del jupyter notebook !\n",
    "\n",
    "Las celdas se pueden ejecutar en orden arbitrario, a diferencia de un script, donde cada línea se ejecuta después \n",
    "de haber sido ejecutada la anterior. Esto es realmente un peligro, porque las variables pueden ser reescritas en un \n",
    "orden no deseado. Para evitar esto, es útil mirar el número que aparece a la derecha del \"In\", en las celdas de tipo\n",
    "\"code\" y chequear que los números sean correlativos en el orden que uno esperaría.  Para volver a reiniciar el kernel, se puede ir al menú \"Kernel\" de la barra de menúes y seleccionar Restart "
   ]
  },
  {
   "cell_type": "markdown",
   "metadata": {},
   "source": [
    "------------------------------------------"
   ]
  },
  {
   "cell_type": "markdown",
   "metadata": {},
   "source": [
    "## Introducción a Python\n",
    "\n",
    "Python es un lenguaje interpretado y orientado a objetos.  Interpretado porque se escribe el código y se ejecuta, sin necesidad de compilarlo, como sucede en FORTRAN, C o C++, por ejemplo. Orientado a objetos significa que en python todo es un \"objeto\" de algún tipo y como tal, tiene métodos (funciones) asociadas a él. Es un paradigma de programación diferente a la programación secuencial. Ya vamos a volver sobre eso y lo vamos a usar, pero no vamos a profundizar.  \n",
    "\n",
    "Algunos links de utilidad:\n",
    "\n",
    "- página oficial de python: https://www.python.org/\n",
    "- Tutorial oficial de python: https://docs.python.org/2/tutorial/\n",
    "- Un libro gratis sobre python: https://greenteapress.com/wp/think-python/"
   ]
  },
  {
   "cell_type": "markdown",
   "metadata": {},
   "source": [
    "----------------------------------"
   ]
  },
  {
   "cell_type": "markdown",
   "metadata": {},
   "source": [
    "### Python como calculadora\n",
    "\n",
    "\n",
    "no es necesario invocar ninguna función (como print) para obtener un resultado en python. El resultado de una operación es escrito al ejecutar una celda de código jupyter, o una sentencia en el intérprete en la terminal. \n"
   ]
  },
  {
   "cell_type": "code",
   "execution_count": null,
   "metadata": {},
   "outputs": [],
   "source": [
    "3+3"
   ]
  },
  {
   "cell_type": "code",
   "execution_count": null,
   "metadata": {},
   "outputs": [],
   "source": [
    "2**3 + 5."
   ]
  },
  {
   "cell_type": "markdown",
   "metadata": {},
   "source": [
    "Ejercicio: Ejecutar una celda de código con el siguiente cálculo : $\\frac{5x10+3^3}{25+10x2}$"
   ]
  },
  {
   "cell_type": "markdown",
   "metadata": {},
   "source": [
    "# Tipos de datos\n",
    "\n",
    "En Pyhon existen varios tipos de datos, como en cualquier lenguaje de programación. Ya hemos introducido algunos.   \n",
    "- Text Type:\tstr\n",
    "- Numeric Types:\tint, float, complex\n",
    "- Sequence Types:\tlist, tuple, range\n",
    "- Mapping Type:\tdict\n",
    "- Set Types: set, frozenset\n",
    "- Boolean Type: bool\n",
    "- Binary Types: bytes, bytearray, memoryview\n",
    "\n",
    "\n",
    "Nosotros vamos a usar los númericos int() y float(); el tipo de texto str(); el tipo boolean bool, el tipo mapping dict (diccionario) e indirectamente vamos a usar a veces los tipos secuenciales: list, tupple y range.  \n",
    "Sientanse libres de explorar el resto. \n",
    "\n",
    "Por último pero no menos importante, la función *Built-in* de python para conocer el tipo de dato es ***type()***."
   ]
  },
  {
   "cell_type": "markdown",
   "metadata": {},
   "source": [
    "#### Duck Typing"
   ]
  },
  {
   "cell_type": "markdown",
   "metadata": {},
   "source": [
    "Python tiene \"duck\" typing. Si camina como pato, nada como pato y suena como pato, es un pato.  Dicho más formalmente, el conjunto actual de métodos y propiedades determina la validez semántica. Ejemplo: el tipo \"type\" de la salida tiene que ver con la operación que se ejecuta, y no con el tipo heredado de los objetos involucrados.  En python 3 no hay que definir a uno de los operandos de una división como real para que el resultado de la división sea un real. (En python 2 esto es diferente, esa operación hubiese dado como resultado 0, era necesario el punto)   "
   ]
  },
  {
   "cell_type": "markdown",
   "metadata": {},
   "source": [
    "Ejercicio: Hacer una división de enteros, cuyo resultado no sea un entero ¿Qué resultado les hubiera dado la misma operación en FORTRAN?"
   ]
  },
  {
   "cell_type": "code",
   "execution_count": null,
   "metadata": {},
   "outputs": [],
   "source": [
    "5/7"
   ]
  },
  {
   "cell_type": "markdown",
   "metadata": {},
   "source": [
    "Existen muchas funciones ${\\it built-in}$ en Python. La función type() nos dice el tipo de una variable o número. Aquí también se refleja el duck typing. "
   ]
  },
  {
   "cell_type": "code",
   "execution_count": null,
   "metadata": {},
   "outputs": [],
   "source": [
    "type(3)"
   ]
  },
  {
   "cell_type": "code",
   "execution_count": null,
   "metadata": {},
   "outputs": [],
   "source": [
    "type(2.6)"
   ]
  },
  {
   "cell_type": "code",
   "execution_count": null,
   "metadata": {},
   "outputs": [],
   "source": [
    "type('hola mundo')"
   ]
  },
  {
   "cell_type": "markdown",
   "metadata": {},
   "source": [
    "Mientras esté definida la suma (metodo) para un dado tipo de objeto, funciona. (En python todo es un objeto)"
   ]
  },
  {
   "cell_type": "code",
   "execution_count": null,
   "metadata": {},
   "outputs": [],
   "source": [
    "'hola' + 'mundo'"
   ]
  },
  {
   "cell_type": "code",
   "execution_count": null,
   "metadata": {},
   "outputs": [],
   "source": [
    "2 * 'pica' "
   ]
  },
  {
   "cell_type": "code",
   "execution_count": null,
   "metadata": {},
   "outputs": [],
   "source": [
    "2 + 'yo'  # Notar cómo se enuncia el error (la centralidad del método, no de los objetos). \n",
    "          # Y notar que los comentarios de python se escriben con # "
   ]
  },
  {
   "cell_type": "code",
   "execution_count": null,
   "metadata": {},
   "outputs": [],
   "source": [
    "\"\"\" Esto es otra manera de comentar\n",
    "en python. Se usa mucho en el principio \n",
    "de las funciones por ejemplo, para describirlas \n",
    "o para cualquier otra cosa que requiera varias\n",
    "líneas.\n",
    "\"\"\""
   ]
  },
  {
   "cell_type": "markdown",
   "metadata": {},
   "source": [
    "### Asignaciones en Python\n",
    "\n",
    "Como en cualquier otro lenguaje de programación, se pueden asignar valores a variables en python. "
   ]
  },
  {
   "cell_type": "code",
   "execution_count": null,
   "metadata": {},
   "outputs": [],
   "source": [
    "#La variable hereda el tipo del valor dado, no hay que definirlo previamente\n",
    "a = 2             \n",
    "type(a)"
   ]
  },
  {
   "cell_type": "code",
   "execution_count": null,
   "metadata": {},
   "outputs": [],
   "source": [
    "# Ojo con correr la celda más de una vez... si asignamos un valor a una variable en una celda\n",
    "# anterior y aplicamos operaciones en una celda posterior, chequear siempre la correlatividad\n",
    "# entre los números de ejecución\n",
    "\n",
    "a = a + 3         \n",
    "print(a)"
   ]
  },
  {
   "cell_type": "code",
   "execution_count": null,
   "metadata": {},
   "outputs": [],
   "source": [
    "#o, mejor aún, asignar variables y ejecutar operaciones sobre ellas en una misma celda\n",
    "\n",
    "a = 2\n",
    "a += 3   # Python acepta esta notación, más común del lenguaje C. Es equivalente a hacer a = a + 1\n",
    "a"
   ]
  },
  {
   "cell_type": "code",
   "execution_count": null,
   "metadata": {},
   "outputs": [],
   "source": [
    "#La multiplicación también es válida en ese formato\n",
    "\n",
    "a = 2\n",
    "a *= 2\n",
    "\n",
    "a"
   ]
  },
  {
   "cell_type": "markdown",
   "metadata": {},
   "source": [
    "#### Asignaciones múltiples\n",
    "\n",
    "Python permite la asignación de varias variables en una misma línea. "
   ]
  },
  {
   "cell_type": "code",
   "execution_count": null,
   "metadata": {},
   "outputs": [],
   "source": [
    "a , b  = 1, 2\n",
    "\n",
    "print('a = ',a)     # introducimos la función built-in de python \"print()\" porque la escritura directa solo es posible \n",
    "print('b = ',b)     # cuando se trata de un objeto solo. \n"
   ]
  },
  {
   "cell_type": "markdown",
   "metadata": {},
   "source": [
    "Esto es importante, porque muchas de las funciones que se utilizan tienen más de un argumento de salida y cuando las llamen lo van a hacer con asignaciones múltiples:  a, b = funcionejemplo(bla, bla)"
   ]
  },
  {
   "cell_type": "markdown",
   "metadata": {},
   "source": [
    "### Listas y Tupples\n",
    "Las listas y tupples son dos de los contenedores built-in de python, es decir un tipo de objeto donde puedo guardar varias cosas. Un tercer contenedor es el diccionario, que vamos a ver un poco más abajo."
   ]
  },
  {
   "cell_type": "code",
   "execution_count": null,
   "metadata": {},
   "outputs": [],
   "source": [
    "L = ['red','green','blue'] # Las listas se definen con brackets cuadrados, y con los elementos separados \n",
    "                           # por comas\n",
    "print(type(L))    \n",
    "    "
   ]
  },
  {
   "cell_type": "code",
   "execution_count": null,
   "metadata": {},
   "outputs": [],
   "source": [
    "L[0] "
   ]
  },
  {
   "cell_type": "code",
   "execution_count": null,
   "metadata": {},
   "outputs": [],
   "source": [
    "L[2]"
   ]
  },
  {
   "cell_type": "code",
   "execution_count": null,
   "metadata": {},
   "outputs": [],
   "source": [
    "L[-2] # SE PUEDE 'CONTAR PARA ATRÁS' EN PYTHON.  LA DIFERENCIA ES QUE ARRANCA DE -1 (no existe el -0)"
   ]
  },
  {
   "cell_type": "code",
   "execution_count": null,
   "metadata": {},
   "outputs": [],
   "source": [
    "L[3]"
   ]
  },
  {
   "cell_type": "code",
   "execution_count": null,
   "metadata": {},
   "outputs": [],
   "source": [
    "L[-3]"
   ]
  },
  {
   "cell_type": "code",
   "execution_count": null,
   "metadata": {},
   "outputs": [],
   "source": [
    "L = L + ['black', 'white'] # la suma para los objetos tipo lista está definida de tal manera \n",
    "                           # que agrega valores a la lista.\n",
    "L\n",
    "#RECUERDEN EL PROBLEMA DE LAS CELDAS ACA!"
   ]
  },
  {
   "cell_type": "markdown",
   "metadata": {},
   "source": [
    "### Slicing\n",
    "Un detalle muy útil de python, que sirve para cualquier contenedor, como así también para los vectores de numpy (ya veremos) , es la capacidad de quedarnos con parte de los elementos mediante la sintaxis conocida como \"slicing\", que en inglés significa rebanar."
   ]
  },
  {
   "cell_type": "code",
   "execution_count": null,
   "metadata": {},
   "outputs": [],
   "source": [
    "L[1:3] # L[start:stop:paso] : elementos de L if index i, where start <= i < stop !! Si el step no está incluido, vale 1"
   ]
  },
  {
   "cell_type": "code",
   "execution_count": null,
   "metadata": {},
   "outputs": [],
   "source": [
    "L[1:5:2]"
   ]
  },
  {
   "cell_type": "markdown",
   "metadata": {},
   "source": [
    "Y se pueden hacer muchas cosas"
   ]
  },
  {
   "cell_type": "code",
   "execution_count": null,
   "metadata": {},
   "outputs": [],
   "source": [
    "L[2:]  # Se omite el final. Esto significa elemento 2 en adelante"
   ]
  },
  {
   "cell_type": "code",
   "execution_count": null,
   "metadata": {},
   "outputs": [],
   "source": [
    "L[-2:]"
   ]
  },
  {
   "cell_type": "code",
   "execution_count": null,
   "metadata": {},
   "outputs": [],
   "source": [
    "L[:4]"
   ]
  },
  {
   "cell_type": "code",
   "execution_count": null,
   "metadata": {},
   "outputs": [],
   "source": [
    "L[::2] # Sin aclarar principio y fin, paso cada 2"
   ]
  },
  {
   "cell_type": "code",
   "execution_count": null,
   "metadata": {},
   "outputs": [],
   "source": [
    "L[::-1]  #De atrás para adelante, osea sin principio ni final, paso -1"
   ]
  },
  {
   "cell_type": "code",
   "execution_count": null,
   "metadata": {},
   "outputs": [],
   "source": [
    "L[4] = 'magenta'"
   ]
  },
  {
   "cell_type": "markdown",
   "metadata": {},
   "source": [
    "Ejercicio: ¿ Como \"rebanarían\" (realizarían un *slicing*) los 3 últimos elementos de la lista ?"
   ]
  },
  {
   "cell_type": "code",
   "execution_count": null,
   "metadata": {},
   "outputs": [],
   "source": []
  },
  {
   "cell_type": "markdown",
   "metadata": {},
   "source": [
    "### Tupples\n",
    "Los tupples son como listas, pero inmutables. Sus elementos no pueden ser reemplazados una vez creados. "
   ]
  },
  {
   "cell_type": "code",
   "execution_count": null,
   "metadata": {},
   "outputs": [],
   "source": [
    "T = (1,2,3)  # se definen con paréntesis, a diferencia de las listas que van con brackets cuadrados\n",
    "T"
   ]
  },
  {
   "cell_type": "code",
   "execution_count": null,
   "metadata": {},
   "outputs": [],
   "source": [
    "T = 1, 2, 3   # cuando hacemos una asignacion múltiple de este estilo se crea una tupla. \n",
    "print(T)\n",
    "print(type(T))"
   ]
  },
  {
   "cell_type": "code",
   "execution_count": null,
   "metadata": {},
   "outputs": [],
   "source": [
    "T[1]"
   ]
  },
  {
   "cell_type": "code",
   "execution_count": null,
   "metadata": {},
   "outputs": [],
   "source": [
    "T[1] = 5 #da error!"
   ]
  },
  {
   "cell_type": "markdown",
   "metadata": {},
   "source": [
    "## Blocks (if, for , while..)\n",
    "\n",
    "Una característica distintiva de python es la manera de tratar los bloques de código. \n",
    "- Los loops for, if o while no necesitan ser cerrados una vez abiertos, como en otros lenguajes. \n",
    "- Los bloques son definidos por indentación. La apertura del bloque se define con \":\". Luego de abierto un bloque, en la siguiente sentencia se deben dejar 4 espacios o 1 tab de margen. El intérprete considera cerrado ese bloque cuando se vuelve al nivel de indentación anterior. \n"
   ]
  },
  {
   "cell_type": "code",
   "execution_count": null,
   "metadata": {},
   "outputs": [],
   "source": [
    "#EJEMPLO \n",
    "\n",
    "a = True\n",
    "if(a):\n",
    "    print('ingresó al if')\n",
    "else:\n",
    "    print('no ingresó al if')\n",
    "    \n",
    "print('esto ya es por fuera del if, y no tuvimos que cerrar el bloque')"
   ]
  },
  {
   "cell_type": "code",
   "execution_count": null,
   "metadata": {},
   "outputs": [],
   "source": [
    "### Loops en python: \n",
    "\n",
    "Los loops en python no funcionan de la manera tradicional, como en FORTRAN o C "
   ]
  },
  {
   "cell_type": "code",
   "execution_count": null,
   "metadata": {},
   "outputs": [],
   "source": [
    "lista = [1, 'bla', 3.0]\n",
    "for i in lista:\n",
    "    print(i)\n"
   ]
  },
  {
   "cell_type": "markdown",
   "metadata": {},
   "source": [
    "Los loops en python recorren un objeto iterable, que puede ser cualquier tipo secuencial : lista, tupple o range, o incluso un string. Otros objetos iterables como diccionarios (Los vamos a ver más adelante) o sets también pueden ser usados. "
   ]
  },
  {
   "cell_type": "code",
   "execution_count": null,
   "metadata": {},
   "outputs": [],
   "source": [
    "for i in 'rosariocentral':\n",
    "    print(i)"
   ]
  },
  {
   "cell_type": "markdown",
   "metadata": {},
   "source": [
    "La función *built-in* range(start, stop[, step]) . Es la función que nos permite hacer un loop de la manera \"tradicional\", como se hacen en FORTRAN o C, con un índice que va variando hasta llegar a un valor. "
   ]
  },
  {
   "cell_type": "code",
   "execution_count": null,
   "metadata": {},
   "outputs": [],
   "source": [
    "type(range(5))"
   ]
  },
  {
   "cell_type": "code",
   "execution_count": null,
   "metadata": {},
   "outputs": [],
   "source": [
    "for i in range(5):\n",
    "    print(i)"
   ]
  },
  {
   "cell_type": "code",
   "execution_count": null,
   "metadata": {},
   "outputs": [],
   "source": [
    "for i in range(0,6,2):\n",
    "    print(i)"
   ]
  },
  {
   "cell_type": "code",
   "execution_count": null,
   "metadata": {},
   "outputs": [],
   "source": [
    "for i in range(10):\n",
    "    if i > 5:\n",
    "        print('i', i, '> 5')\n",
    "    elif  2 < i < 5:\n",
    "        print('2 < ', i, ' < 5')\n",
    "    else:\n",
    "        print('otra cosa', i)\n",
    "        \n"
   ]
  },
  {
   "cell_type": "code",
   "execution_count": null,
   "metadata": {},
   "outputs": [],
   "source": [
    "L=[1,2,3,4,5,'a','b','c','d']\n",
    "sumaint=0\n",
    "sumastr=''\n",
    "for i in L:\n",
    "    if((type(i)==int)):\n",
    "        sumaint += i\n",
    "        \n",
    "        #print(sum(L))\n",
    "    elif(type(i)==str):\n",
    "        sumastr += i\n",
    "        #sumastr = sumastr + i \n",
    "        #print(sumastr.join(i))\n",
    "\n",
    "print(sumastr)        \n",
    "print(sumaint)"
   ]
  },
  {
   "cell_type": "markdown",
   "metadata": {},
   "source": [
    "## Diccionarios"
   ]
  },
  {
   "cell_type": "code",
   "execution_count": null,
   "metadata": {},
   "outputs": [],
   "source": []
  },
  {
   "cell_type": "code",
   "execution_count": null,
   "metadata": {},
   "outputs": [],
   "source": [
    "# Un objeto muy utilizado de Python son los diccionarios. Para definir un diccionario alcanza con:\n",
    "\n",
    "ATOMIC_MASS = {}\n",
    "\n",
    "#El diccionario tiene dos elementos constituyentes, las claves(keys), y los valores (values). Los valores pueden ser un número\n",
    "#como en el siguiente ejemplo, o listas, u otros objetos. \n",
    "\n",
    "ATOMIC_MASS['H'] = 1\n",
    "ATOMIC_MASS['C'] = 12\n",
    "ATOMIC_MASS['He'] = 4\n",
    "ATOMIC_MASS['N'] = 14\n",
    "ATOMIC_MASS['O'] = 16\n",
    "ATOMIC_MASS['Ne'] = 20\n",
    "ATOMIC_MASS['Ar'] = 40\n",
    "ATOMIC_MASS['S'] = 32\n",
    "ATOMIC_MASS['Si'] = 28\n",
    "ATOMIC_MASS['Fe'] = 55.8\n",
    "\n",
    "print(ATOMIC_MASS.keys())\n",
    "print(ATOMIC_MASS['O'])\n",
    "\n",
    "# Impresión de las llaves y valores correspondientes a las llaves. Salen desordenados porque no tenían un orden \n",
    "# particular\n",
    "for key in ATOMIC_MASS.keys():\n",
    "    print(key, ATOMIC_MASS[key])\n",
    "    \n",
    "ATOMIC_MASS.values()"
   ]
  },
  {
   "cell_type": "markdown",
   "metadata": {},
   "source": [
    "Podemos ordenar el diccionario presentado anteriormente en función de las claves (keys)"
   ]
  },
  {
   "cell_type": "code",
   "execution_count": null,
   "metadata": {},
   "outputs": [],
   "source": [
    "for key in sorted(ATOMIC_MASS): # orden usando las keys - utilizando la función built-in de python sorted()\n",
    "    print('Element: {0:3s}  Atomic Mass: {1}'.format(key, ATOMIC_MASS[key]))"
   ]
  },
  {
   "cell_type": "code",
   "execution_count": null,
   "metadata": {},
   "outputs": [],
   "source": [
    "for elem in sorted(ATOMIC_MASS, key = ATOMIC_MASS.get): # Orden usando los valores\n",
    "    print('Element: {0:3s} Atomic Mass: {1}'.format(elem, ATOMIC_MASS[elem]))"
   ]
  },
  {
   "cell_type": "markdown",
   "metadata": {},
   "source": [
    "## Booleans"
   ]
  },
  {
   "cell_type": "markdown",
   "metadata": {},
   "source": [
    "Como todo lenguaje de programación, Python tiene manejo de lenguaje lógico. Esto se hace con el typo de dato 'boolean' (por George Bool), \n",
    "que sólo puede tomar los valores 'True' o 'False'. \n",
    "\n",
    "- Los operadores de comparación son :  <, >, <=, >=, ==, != . Y los operadores lógicos 'and' , 'or', 'not'\n",
    "\n",
    "\n"
   ]
  },
  {
   "cell_type": "code",
   "execution_count": null,
   "metadata": {},
   "outputs": [],
   "source": [
    "a = 2 < 5\n",
    "a"
   ]
  },
  {
   "cell_type": "code",
   "execution_count": null,
   "metadata": {},
   "outputs": [],
   "source": [
    "b = 6\n",
    "d = 15\n",
    "c = 10"
   ]
  },
  {
   "cell_type": "code",
   "execution_count": null,
   "metadata": {},
   "outputs": [],
   "source": [
    "b > d"
   ]
  },
  {
   "cell_type": "code",
   "execution_count": null,
   "metadata": {},
   "outputs": [],
   "source": [
    "b < d and c > b"
   ]
  },
  {
   "cell_type": "markdown",
   "metadata": {},
   "source": [
    "Los booleans se pueden 'castear' a enteros, trasnformándose en 0's y 1's "
   ]
  },
  {
   "cell_type": "code",
   "execution_count": null,
   "metadata": {},
   "outputs": [],
   "source": [
    "print(int(b > d))\n",
    "\n",
    "print(int(not b > d))"
   ]
  },
  {
   "cell_type": "markdown",
   "metadata": {},
   "source": [
    "## Funciones en python\n",
    "\n",
    "Las funciones en python son pedazos de código con nombre, que reciben o no uno o más parámetros de entrada, ejecuta un conjunto de sentencias, ejecuta una dada tarea, y finalmente puede devolver un vaolor u objeto como salida. El paradigma de programación con funciones se llama programación *estructurada*."
   ]
  },
  {
   "cell_type": "code",
   "execution_count": null,
   "metadata": {},
   "outputs": [],
   "source": [
    "def cuadsuma(x):\n",
    "    \"\"\"devuelve el siguiente del cuadrado del parámetro de entrada\"\"\"\n",
    "    return x**2+1"
   ]
  },
  {
   "cell_type": "code",
   "execution_count": null,
   "metadata": {},
   "outputs": [],
   "source": [
    "# Los comentarios entre comillas al comienzo de una función sirven para describir lo que hace una función , y\n",
    "# puede ser consultado a través de la función built-in help()\n",
    "help(cuadsuma)\n"
   ]
  },
  {
   "cell_type": "code",
   "execution_count": null,
   "metadata": {},
   "outputs": [],
   "source": [
    "a = cuadsuma(5)\n"
   ]
  },
  {
   "cell_type": "code",
   "execution_count": null,
   "metadata": {},
   "outputs": [],
   "source": [
    "def func2(x, y, z, a=0, b=1):\n",
    "    \"\"\"\n",
    "    Esta funcion tiene 5 argumentos, 2 de ellos tiene valores \n",
    "    por default (por lo tanto no obligatorios)\n",
    "    \"\"\"\n",
    "    return a + b * (x**2 + y**2 + z**2)**0.5\n",
    "\n",
    "D = func2(5, 6, 8)\n",
    "print(D)"
   ]
  },
  {
   "cell_type": "markdown",
   "metadata": {},
   "source": [
    "La función se puede evaluar de dos maneras"
   ]
  },
  {
   "cell_type": "code",
   "execution_count": null,
   "metadata": {},
   "outputs": [],
   "source": [
    "F1 = func2(5,6,8)\n",
    "F1"
   ]
  },
  {
   "cell_type": "code",
   "execution_count": null,
   "metadata": {},
   "outputs": [],
   "source": [
    "F1 = func2(x=5, y=6, z=8, a=3, b=5)\n",
    "F1"
   ]
  },
  {
   "cell_type": "code",
   "execution_count": null,
   "metadata": {},
   "outputs": [],
   "source": [
    "F1 = func2(x=4, y=2, z=5, a=15, b=100) # PERO LOS VALORES QUE TIENEN UN VALOR POR DEFAULT NO! ERROR!\n",
    "F1"
   ]
  },
  {
   "cell_type": "markdown",
   "metadata": {},
   "source": [
    "Otra característica importante es que las funciones conocen los valores de las variables externas:"
   ]
  },
  {
   "cell_type": "code",
   "execution_count": null,
   "metadata": {},
   "outputs": [],
   "source": [
    "b = 5\n",
    "\n",
    "def test_b(x):\n",
    "    print(b*x)\n",
    "\n",
    "test_b(2)\n"
   ]
  },
  {
   "cell_type": "code",
   "execution_count": null,
   "metadata": {},
   "outputs": [],
   "source": [
    "# Esto funciona aún cuando el valor no se conoce al definir la función\n",
    "def test_a2(x):\n",
    "    print(a2*x)\n",
    "   \n",
    "    \n",
    "a2 = 10\n",
    "test_a2(5)\n",
    "\n"
   ]
  },
  {
   "cell_type": "markdown",
   "metadata": {},
   "source": [
    "¿Las variables definidas internamente de la función valen fuera de la función?"
   ]
  },
  {
   "cell_type": "markdown",
   "metadata": {},
   "source": [
    "----"
   ]
  },
  {
   "cell_type": "markdown",
   "metadata": {},
   "source": [
    "Algo no tan usado, pero que puede verse a veces en algunos lugares es la función lambda. La función lambda sirve para hacer funciones de una línea rápidamente. "
   ]
  },
  {
   "cell_type": "code",
   "execution_count": null,
   "metadata": {},
   "outputs": [],
   "source": [
    "J = lambda x, y, z: (x**2 + y**2 + z**2)**0.5 \n",
    "J(5,6,8)"
   ]
  },
  {
   "cell_type": "markdown",
   "metadata": {},
   "source": [
    "------"
   ]
  },
  {
   "cell_type": "markdown",
   "metadata": {},
   "source": [
    "## I / O (input/output)"
   ]
  },
  {
   "cell_type": "markdown",
   "metadata": {},
   "source": [
    "## Escritura con formato"
   ]
  },
  {
   "cell_type": "markdown",
   "metadata": {},
   "source": [
    "La vieja manera de escribir en python era similar a la manera del lenguaje C. La vamos a ver porque es común verla\n",
    "aún en muchos módulos heredados y alguno puede resultarle más cómodo si ya programa en C. "
   ]
  },
  {
   "cell_type": "code",
   "execution_count": null,
   "metadata": {},
   "outputs": [],
   "source": [
    "a = 10.\n",
    "b = 'Fideo Di María'\n",
    "c = 1.6e-13\n",
    "print('a = %f, b = %s, c = %e' % (a, b, c))"
   ]
  },
  {
   "cell_type": "markdown",
   "metadata": {},
   "source": [
    "La nueva manera de escribir con formato hace uso del método format() de los objetos tipo str, y {} para definir cual valor imprimir usando el formato indicado."
   ]
  },
  {
   "cell_type": "markdown",
   "metadata": {},
   "source": [
    "Explorar los métodos asociados a un objeto tipo str , usando el tab . Recordemos que en python todo es un objeto y tiene métodos asociados (en criollo, le podemos poner un punto al lado y ejecutarle un método, de los asociados al tipo de dato en cuestión)"
   ]
  },
  {
   "cell_type": "code",
   "execution_count": null,
   "metadata": {},
   "outputs": [],
   "source": [
    "'Hola mundo'.lower()\n"
   ]
  },
  {
   "cell_type": "markdown",
   "metadata": {},
   "source": [
    "EJEMPLO:"
   ]
  },
  {
   "cell_type": "code",
   "execution_count": null,
   "metadata": {},
   "outputs": [],
   "source": [
    "#EJEMPLO:\n",
    "'hola mundo'.split()"
   ]
  },
  {
   "cell_type": "code",
   "execution_count": null,
   "metadata": {},
   "outputs": [],
   "source": [
    "a = 10.\n",
    "b = 'Fideo Di María'\n",
    "c = 1.6e-13\n",
    "print(\"{:8.3f} {:15s} {:10.3e}\".format(a, b, c))"
   ]
  },
  {
   "cell_type": "markdown",
   "metadata": {},
   "source": [
    "## Lectura y escritura de datos desde/hacia archivo (ascii)"
   ]
  },
  {
   "cell_type": "markdown",
   "metadata": {},
   "source": [
    "La manera standard de escritura hacia archivos o ficheros en python hace uso de las funciones built-in open() y el método write, asociado a los archivos.\n",
    "Veamos."
   ]
  },
  {
   "cell_type": "markdown",
   "metadata": {},
   "source": [
    "### Apertura de un archivo\n",
    "\n",
    "antes de poder escribir en un archivo, debemos interactuar con el sistema de archivos a través de la función \n",
    "open('path', 'modo').  El 'path' va a ser la ruta al archivo, por ejemplo '~/cursos/fyegalaxias/2021/intropython/bla.dat'. Y el modo va a indicar de qué manera queremos abrir el archivo. Hay cuatro posibilidades: \n",
    "- 'r' , se abre el archivo para leer (**r**ead)\n",
    "- 'w' , se crea un archivo para escritura (**w**rite)\n",
    "- 'x' , se abre el archivo para escritura, pero si el archivo existe, devuelve un error. \n",
    "- 'a' , se abre un archivo para escritura. Si el archivo existe, el puntero se coloca sobre el final del archivo y escribe a partir de ahí (**a**ppend). Si el archivo no existe, se crea uno con el nombre indicado. "
   ]
  },
  {
   "cell_type": "code",
   "execution_count": null,
   "metadata": {},
   "outputs": [],
   "source": [
    "#reemplazar el path por un path dentro de sus computadoras\n",
    "\n",
    "filetest = open('/home/obiwan/cursos/fyegalaxias/test.dat', 'w')\n",
    "\n",
    "print(type(filetest))\n",
    "\n",
    "listavalores = [0,1,4,5,6,7,8,3,6]\n",
    "listavalores2 = [0,7,8,5,3,1,5,6,7]\n",
    "\n",
    "for i in range(len(listavalores)):\n",
    "    filetest.write(\"{:3d} {:3d}\\n\".format(listavalores[i], listavalores2[i]))\n",
    "    #filetest.write(\"{:3d}  \\n\".format(listavalores[i], listavalores2[i]))\n",
    "\n",
    "filetest.close() #NUNCA OLVIDARSE DE CERRAR EL ARCHIVO. HASTA NO CERRARLO NO VA A FINALIZAR EL PROCESO DE \n",
    "                 #ESCRITURA Y ALOCACIÓN DE MEMORIA. \n"
   ]
  },
  {
   "cell_type": "code",
   "execution_count": null,
   "metadata": {},
   "outputs": [],
   "source": [
    "filetest."
   ]
  },
  {
   "cell_type": "code",
   "execution_count": null,
   "metadata": {},
   "outputs": [],
   "source": [
    "#ahora leemos el archivo.\n",
    "filepath= '/home/obiwan/cursos/fyegalaxias/test.dat'\n",
    "fileread = open(filepath, 'r')\n",
    "\n",
    "# Se puede acudir directamente al método read() de los objetos tipo file\n",
    "a = fileread.read()\n",
    "print(a)\n",
    "print('tipo de a',type(a))\n",
    "\n",
    "fileread.close()\n"
   ]
  },
  {
   "cell_type": "code",
   "execution_count": null,
   "metadata": {},
   "outputs": [],
   "source": [
    "N = sum(1 for line in open(filepath)) # numero de lineas en el archivo -- (abre y cierra el archivo)\n",
    "\n",
    "arr1, arr2 = [], []\n",
    "\n",
    "f = open(filepath,'r')\n",
    "#print(f.readline())\n",
    "for i in range(N):\n",
    "   column = f.readline()\n",
    "   print(column)\n",
    "   column = column.strip()\n",
    "   print(column)\n",
    "   column = column.split() # es un array de strings\n",
    "   print(column)\n",
    "   arr1.append(int(column[0]))\n",
    "   arr2.append(float(column[1]))\n",
    "\n",
    "f.close()\n",
    "print('primera columna: ', arr1)\n",
    "print('segunda columna: ', arr2)"
   ]
  },
  {
   "cell_type": "code",
   "execution_count": null,
   "metadata": {},
   "outputs": [],
   "source": [
    "# Estos método son una posibilidad. Sin embargo, existen funcionalidades de numpy o pandas por ej para la lectura \n",
    "# de datos que suelen ser mucho más usadas y cómodas. En este caso la salida siempre va a ser un str, que luego \n",
    "# habría que convertir al tipo de dato que uno quiera y demás. "
   ]
  },
  {
   "cell_type": "markdown",
   "metadata": {},
   "source": [
    "-------------------------------------------------------"
   ]
  },
  {
   "cell_type": "markdown",
   "metadata": {},
   "source": [
    "## LIBRERIAS EN PYTHON"
   ]
  },
  {
   "cell_type": "markdown",
   "metadata": {},
   "source": [
    "### Importación de librerías\n",
    "\n",
    "Gran parte de la potencia del lenguaje Python radica en la orientación a objetos y el grado de modularidad que esto implica. Esto se combina con la gran cantidad de usuarios y desarrolladores que tiene, que colaboran a crear librerías, que se suman a las que python ya contiene. \n",
    "\n",
    "Qué es una librería? Es un conjunto de módulos. Los módulos son porciones de código que realizan una función en específico y las librerías son conjuntos de módulos organizados con alguna finalidad. En concreto, un módulo suele ser un archivo con terminación '.py', que contiene funciones y clases que realizan determinada acción.  Una librería es un directorio que los contiene. \n",
    "\n",
    "Más allá de la diferencia jerárquica entre una librería y un módulo, ambos se \"llaman\" o invocan de la misma manera en python: con la función built-in \"import\".  "
   ]
  },
  {
   "cell_type": "code",
   "execution_count": null,
   "metadata": {},
   "outputs": [],
   "source": [
    "import math "
   ]
  },
  {
   "cell_type": "markdown",
   "metadata": {},
   "source": [
    "math es una librería interna de python que contiene operaciones matemáticas. Investigar el contenido de math:"
   ]
  },
  {
   "cell_type": "code",
   "execution_count": null,
   "metadata": {},
   "outputs": [],
   "source": [
    "math.\n"
   ]
  },
  {
   "cell_type": "markdown",
   "metadata": {},
   "source": [
    "## Introducción a Numpy\n",
    "\n",
    "Numpy (acrónimo de numerical python) es una librería de python. Y es una de las librerías más usadas en ciencia.\n",
    "\n",
    "La finalidad de Numpy es reunir un conjunto de funcionalidades asociadas al cálculo numérico que corren de manera muy eficiente.  Corren de manera eficiente porque están escritas en C y Fortran, y los lenguajes de más bajo nivel como estos son más eficientes que los lenguajes de alto nivel con interprete. \n",
    "\n",
    " "
   ]
  },
  {
   "cell_type": "code",
   "execution_count": null,
   "metadata": {},
   "outputs": [],
   "source": [
    "import numpy as np "
   ]
  },
  {
   "cell_type": "markdown",
   "metadata": {},
   "source": [
    "El 'as' se utiliza para abreviar al módulo o librería importado como nosotros deseemos llamarlo en adelante, ya que lo vamos a usar mucho y mejor tenerlo acotado. De esta manera cuando llamemos a la librería numpy lo haremos con np.   \n"
   ]
  },
  {
   "cell_type": "markdown",
   "metadata": {},
   "source": [
    "Explorar las decenas de métodos asociados a numpy (Recordemos que colocándole un punto adelante podemos asociarle a un objeto un método reservado para ese tipo de objeto. En este caso, np es una librería y los métodos asociados son todos las funciones que contienen sus módulos. Poniendo el punto y presionando la tecla Tab en jupyter notebook aparecen los posibles métodos). "
   ]
  },
  {
   "cell_type": "code",
   "execution_count": null,
   "metadata": {},
   "outputs": [],
   "source": [
    "np."
   ]
  },
  {
   "cell_type": "markdown",
   "metadata": {},
   "source": [
    "el método arange(input) genera un array (vector) de dimensión \"input\" de enteros de 0 a input "
   ]
  },
  {
   "cell_type": "code",
   "execution_count": null,
   "metadata": {},
   "outputs": [],
   "source": [
    "a = np.arange(10)\n",
    "print(a)\n",
    "print(type(a))\n",
    "b = [1,2,3,4]"
   ]
  },
  {
   "cell_type": "markdown",
   "metadata": {},
   "source": [
    "NO es una lista, es un numpy array, un tipo de objeto particular. Explorar los métodos que pueden ser aplicados a \n",
    "un numpy array. "
   ]
  },
  {
   "cell_type": "code",
   "execution_count": null,
   "metadata": {},
   "outputs": [],
   "source": [
    "#b.\n",
    "a."
   ]
  },
  {
   "cell_type": "code",
   "execution_count": null,
   "metadata": {},
   "outputs": [],
   "source": [
    "c = np.arange(4,10, 2)\n",
    "c"
   ]
  },
  {
   "cell_type": "markdown",
   "metadata": {},
   "source": [
    "El método zeros() genera un array lleno de 0's. Util para inicializar un vector en un programa."
   ]
  },
  {
   "cell_type": "code",
   "execution_count": null,
   "metadata": {},
   "outputs": [],
   "source": [
    "b = np.zeros(10)\n",
    "b"
   ]
  },
  {
   "cell_type": "code",
   "execution_count": null,
   "metadata": {},
   "outputs": [],
   "source": [
    "# O más de 1 dimensión:\n",
    "b2 = np.zeros((2,2)) # Notar que estoy evaluando la función con una tupla (2,2), porque le \n",
    "                     # estoy dando un único argumento\n",
    "b2"
   ]
  },
  {
   "cell_type": "markdown",
   "metadata": {},
   "source": [
    "También existe el metodo ones(), que llena un vector de 1's"
   ]
  },
  {
   "cell_type": "code",
   "execution_count": null,
   "metadata": {},
   "outputs": [],
   "source": [
    "d = np.ones(10)*25\n",
    "d"
   ]
  },
  {
   "cell_type": "markdown",
   "metadata": {},
   "source": [
    " El método array(), que convierte una lista por ejemplo, en un numpy array"
   ]
  },
  {
   "cell_type": "code",
   "execution_count": null,
   "metadata": {},
   "outputs": [],
   "source": [
    "\n",
    "L = [1,2,3] # tengo una lista\n",
    "print(L)\n",
    "print(type(L))\n",
    "\n",
    "Larr = np.array(L)\n",
    "print(Larr)\n",
    "print(type(Larr))"
   ]
  },
  {
   "cell_type": "code",
   "execution_count": null,
   "metadata": {},
   "outputs": [],
   "source": [
    "# Las listas pueden contener multiples tipos, los numpy arrays no!\n",
    "\n",
    "L = [1, 'hola', 5.0]\n",
    "print(L)\n",
    "Larr = np.array(L)\n",
    "print(Larr)\n",
    "\n",
    "#Los tipos del numpy array se convierten al de mas alto nivel. En este caso a string. "
   ]
  },
  {
   "cell_type": "markdown",
   "metadata": {},
   "source": [
    "Otra manera de crear arrays es con el método linespace()"
   ]
  },
  {
   "cell_type": "code",
   "execution_count": null,
   "metadata": {},
   "outputs": [],
   "source": [
    "a  = np.linspace(1,9, 10) # start, stop (incluido), numero de elementos\n",
    "print(a)"
   ]
  },
  {
   "cell_type": "markdown",
   "metadata": {},
   "source": [
    "O su primo logarítmico"
   ]
  },
  {
   "cell_type": "code",
   "execution_count": null,
   "metadata": {},
   "outputs": [],
   "source": [
    "b = np.logspace(0,2,10) # de 10**start a 10**stop, con 10 valores\n",
    "b"
   ]
  },
  {
   "cell_type": "markdown",
   "metadata": {},
   "source": [
    "Método shape()"
   ]
  },
  {
   "cell_type": "code",
   "execution_count": null,
   "metadata": {},
   "outputs": [],
   "source": [
    "print(np.shape(b))\n",
    "print(b.shape)\n",
    "print()\n",
    "print(np.shape(np.zeros((2,2))))"
   ]
  },
  {
   "cell_type": "markdown",
   "metadata": {},
   "source": [
    "## Lectura de archivos ascii con numpy"
   ]
  },
  {
   "cell_type": "markdown",
   "metadata": {},
   "source": [
    "Numpy nos provee con una función muy utilizada para leer datos en ascii , llamada **loadtxt()** . "
   ]
  },
  {
   "cell_type": "code",
   "execution_count": null,
   "metadata": {},
   "outputs": [],
   "source": [
    "help(np.loadtxt)\n"
   ]
  },
  {
   "cell_type": "code",
   "execution_count": null,
   "metadata": {},
   "outputs": [],
   "source": [
    "a = np.loadtxt('/home/obiwan/cursos/fyegalaxias/test.dat')\n",
    "print(a)"
   ]
  },
  {
   "cell_type": "code",
   "execution_count": null,
   "metadata": {},
   "outputs": [],
   "source": [
    "#La opción unpack=True nos permite guardar cada columna como un vector separado\n",
    "masa, luminosidad = np.loadtxt('/home/obiwan/cursos/fyegalaxias/test.dat', unpack=True)\n",
    "print(masa)\n",
    "print(luminosidad)"
   ]
  },
  {
   "cell_type": "markdown",
   "metadata": {},
   "source": [
    "### Boolean indexing\n",
    "Una característica interesante de python es el llamado Boolean indexing. En Python uno puede evaluar un numpy array por ejemplo, con una expresión lógica, de manera de quedarnos sólo con un subconjunto de los elementos. La expresión lógica aplicada a un vector nos devuelve un vector de booleans, con True's donde se cumple la condición. Esto comunmente es llamado máscara ('mask')\n"
   ]
  },
  {
   "cell_type": "code",
   "execution_count": null,
   "metadata": {},
   "outputs": [],
   "source": [
    "#Supongamos que tenemos un vector con las masas de un grupo de galaxias\n",
    "print('vector original')\n",
    "print(masa)\n",
    "\n",
    "#Ahora queremos quedarnos con aquellas que tienen masas mayores a un dado valor, que definimos como galaxias\n",
    "#masivas\n",
    "\n",
    "#la condición sobre un vector nos da la máscara de booleans:\n",
    "print('mascara:')\n",
    "print(masa > 4)\n",
    "mask = masa > 4\n",
    "#cuando lo aplicamos \n",
    "print('mascara aplicada sobre el vector')\n",
    "\n",
    "masivas = masa[masa > 4]\n",
    "masivas2 = masa[mask]\n",
    "\n",
    "print(masivas)\n",
    "print(masivas2)"
   ]
  },
  {
   "cell_type": "markdown",
   "metadata": {},
   "source": [
    "No necesariamente tengo que evaluar la misma propiedad o vector. \n",
    "**Si tienen la misma longitud** , puedo usar una condicion que involucre otro vector"
   ]
  },
  {
   "cell_type": "code",
   "execution_count": null,
   "metadata": {},
   "outputs": [],
   "source": [
    "#Supongamos ahora que queremos las masas de las galaxias con una luminosidad mayor a un dado número. \n",
    "\n",
    "massmostlum = masa[luminosidad > 5]\n",
    "print(massmostlum)"
   ]
  },
  {
   "cell_type": "markdown",
   "metadata": {},
   "source": [
    "### np.where\n",
    "La alternativa de la librería numpy para el boolean indexing es el método where() . "
   ]
  },
  {
   "cell_type": "code",
   "execution_count": null,
   "metadata": {},
   "outputs": [],
   "source": [
    "masivaswhere, = np.where(masa > 4)  # NOTAR LA COMA ANTES DEL =\n",
    "\n",
    "print('vector de indices donde se cumple la condición')\n",
    "print(masivaswhere)  \n",
    "print(np.shape(masivaswhere))\n",
    "print('masas evaluadas en el vector de índices')\n",
    "print(masa[masivaswhere])\n"
   ]
  },
  {
   "cell_type": "markdown",
   "metadata": {},
   "source": [
    "np.where() devuelve un vector de índices, no una máscara boolean como en el caso del boolean indexing. Esto es útil para saber rápidamente, por ejemplo, cuántas galaxias o elementos del vector en consideración, cumplen con la condición exigida, haciendo uso de la función *built-in* len().\n"
   ]
  },
  {
   "cell_type": "code",
   "execution_count": null,
   "metadata": {},
   "outputs": [],
   "source": [
    "print(len(masivaswhere))"
   ]
  },
  {
   "cell_type": "code",
   "execution_count": null,
   "metadata": {},
   "outputs": [],
   "source": [
    "masivaswhere2 = np.where(masa > 4)  #sin la coma\n",
    "print(masivaswhere2)\n",
    "print('La shape de la salida es distinta')\n",
    "print(np.shape(masivaswhere2))\n",
    "print('Aunque de todas maneras funciona')\n",
    "print(masa[masivaswhere2])\n",
    "print('lo que no funciona es lo de contar las que cumplen esa condicion')\n",
    "print(len(masivaswhere2))\n",
    "print('lo puedo hacer igual, si estoy enterado de la forma del vector de índices')\n",
    "print(len(masivaswhere2[0]))"
   ]
  },
  {
   "cell_type": "markdown",
   "metadata": {},
   "source": [
    "## Matching de arrays - función np.in1d()\n",
    "\n",
    "Muchas veces en nuestra área nos es útil saber cuales elementos dentro de un vector están presentes en otro vector de distinta longitud.  Ejemplo: Tenemos una lista de identificadores de galaxias que alguien nos pasó, de una simulación, que cumplen una dada característica, por ejemplo, que son galaxias de disco. Y a partir de esa lista de IDs (identificadores), yo quiero identificar las masas de esas galaxias. Necesito hacer un 'match' entre la lista que me pasaron, y la lista de IDs completa de la simulación. \n",
    "\n",
    "El método usual involucra un algoritmo de ordenamiento de las tablas de varios pasos. Numpy cuenta con una función\n",
    "que logra hacerlo rápidamente y en una línea, llamada in1d(). Tiene algunos 'corolarios' como extract(), si quieren investigar.  "
   ]
  },
  {
   "cell_type": "code",
   "execution_count": null,
   "metadata": {},
   "outputs": [],
   "source": [
    "# Sea el primer vector, o vector de id's de galaxias 1\n",
    "\n",
    "print('vector de IDs de galaxias de disco')\n",
    "id1 = np.arange(10, 40 , 2)\n",
    "print(id1)\n",
    "print()\n",
    "# y los id's de mi catálogo de galaxias:\n",
    "print('vector de IDs completo de mi catálogo de galaxias')\n",
    "idcomp = np.arange(50)\n",
    "print(idcomp)"
   ]
  },
  {
   "cell_type": "code",
   "execution_count": null,
   "metadata": {},
   "outputs": [],
   "source": [
    "help(np.in1d)"
   ]
  },
  {
   "cell_type": "code",
   "execution_count": null,
   "metadata": {},
   "outputs": [],
   "source": [
    "#a = np.in1d(idcomp, id1)\n",
    "a = np.in1d(idcomp, id1)\n",
    "print(len(a))\n",
    "print(a)"
   ]
  },
  {
   "cell_type": "markdown",
   "metadata": {},
   "source": [
    "Devuelve un vector de Booleans , de la longitud de idcomp, con **True** donde están los elementos de id1. Esto es útil para evaluar un vector de otra propiedad en esta máscara, y sabremos dicha propiedad de las galaxias de disco. \n"
   ]
  },
  {
   "cell_type": "code",
   "execution_count": null,
   "metadata": {},
   "outputs": [],
   "source": [
    "#a modo de prueba, recuperamos los IDs\n",
    "print(idcomp[a])"
   ]
  },
  {
   "cell_type": "markdown",
   "metadata": {},
   "source": [
    "Esto es sólo una muestra de la potencialidad de numpy. Pueden acceder a la documentación en el menú Help de la barra de menúes."
   ]
  },
  {
   "cell_type": "markdown",
   "metadata": {},
   "source": [
    "# Lectura de .hdf5\n",
    "Otro tipo de archivos muy utilizados, y con mucha potencialidad, son los .hdf5. Son archivos que almacenan datos en forma de diccionarios de python. Cada dato (ya sea un float, un array de multiples dimensiones, etc) tiene su \"key\", y además se le puede agregar una descripción, conocida como atributo."
   ]
  },
  {
   "cell_type": "code",
   "execution_count": null,
   "metadata": {},
   "outputs": [],
   "source": [
    "import h5py\n",
    "\n",
    "f = h5py.File('nombredearchivo.hdf5', 'r')  # 'r', 'w', 'a' son modos de apertura: read, write y ambas\n",
    "\n",
    "print(f.keys())\n",
    "list(f.keys()) #objeto iterable\n",
    "\n",
    "masa_dset = f['masa'] # masa_dset , es un \"dataset\", no es el array! Comprobar los metodos\n",
    "\n",
    "# Para obtener el array \n",
    "masa = f['masa'][()]     \n",
    "\n",
    "#o\n",
    "masa  = f['masa'][:] \n",
    "\n",
    "#o \n",
    "masa = np.asarray(f['masa'])\n",
    "\n",
    "f.close()\n",
    "\n",
    "\n"
   ]
  },
  {
   "cell_type": "code",
   "execution_count": null,
   "metadata": {},
   "outputs": [],
   "source": []
  }
 ],
 "metadata": {
  "kernelspec": {
   "display_name": "Python 3",
   "language": "python",
   "name": "python3"
  },
  "language_info": {
   "codemirror_mode": {
    "name": "ipython",
    "version": 3
   },
   "file_extension": ".py",
   "mimetype": "text/x-python",
   "name": "python",
   "nbconvert_exporter": "python",
   "pygments_lexer": "ipython3",
   "version": "3.7.3"
  }
 },
 "nbformat": 4,
 "nbformat_minor": 4
}
